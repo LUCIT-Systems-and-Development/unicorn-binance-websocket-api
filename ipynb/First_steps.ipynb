{
 "cells": [
  {
   "cell_type": "code",
   "execution_count": 1,
   "metadata": {},
   "outputs": [],
   "source": [
    "from unicorn_binance_websocket_api.unicorn_binance_websocket_api_manager import BinanceWebSocketApiManager\n",
    "import os\n",
    "import requests\n",
    "import sys\n",
    "import time\n",
    "import threading\n",
    "import logging\n",
    "\n",
    "\n",
    "logger = logging.getLogger()\n",
    "logger.setLevel(logging.CRITICAL)\n",
    "\n",
    "try:\n",
    "    import unicorn_binance_rest_api\n",
    "except ImportError:\n",
    "    print(\"Please install `unicorn-binance-rest-api`! https://pypi.org/project/unicorn-binance-rest-api/#description\")\n",
    "    sys.exit(1)\n",
    "\n",
    "\n",
    "def print_stream_data_from_stream_buffer(binance_websocket_api_manager):\n",
    "    while True:\n",
    "        if binance_websocket_api_manager.is_manager_stopping():\n",
    "            exit(0)\n",
    "        oldest_stream_data_from_stream_buffer = binance_websocket_api_manager.pop_stream_data_from_stream_buffer()\n",
    "        if oldest_stream_data_from_stream_buffer is not None:\n",
    "            pass\n",
    "        else:\n",
    "            time.sleep(0.01)\n",
    "\n",
    "\n",
    "binance_api_key = \"\"\n",
    "binance_api_secret = \"\"\n",
    "\n",
    "#channels = {'aggTrade', 'trade', 'kline_1m', 'kline_5m', 'kline_15m', 'kline_30m', 'kline_1h', 'kline_2h', 'kline_4h',\n",
    "#            'kline_6h', 'kline_8h', 'kline_12h', 'kline_1d', 'kline_3d', 'kline_1w', 'kline_1M', 'miniTicker',\n",
    "#            'ticker', 'bookTicker', 'depth5', 'depth10', 'depth20', 'depth'}\n",
    "#channels.add('depth@100ms')\n",
    "channels = {'aggTrade', 'trade', 'kline_1m'}\n",
    "arr_channels = {'!miniTicker', '!ticker', '!bookTicker'}\n",
    "markets = []\n",
    "\n",
    "try:\n",
    "    binance_rest_client = unicorn_binance_rest_api.BinanceRestApiManager(binance_api_key, binance_api_secret)\n",
    "except requests.exceptions.ConnectionError:\n",
    "    print(\"No internet connection?\")\n",
    "    sys.exit(1)\n",
    "\n",
    "ubwa = BinanceWebSocketApiManager()\n",
    "\n",
    "# start a worker process to move the received stream_data from the stream_buffer to a print function\n",
    "worker_thread = threading.Thread(target=print_stream_data_from_stream_buffer, args=(ubwa,))\n",
    "worker_thread.start()\n",
    "\n",
    "data = binance_rest_client.get_all_tickers()\n",
    "for item in data:\n",
    "    markets.append(item['symbol'])\n",
    "\n",
    "stream_id_arr = ubwa.create_stream(arr_channels, \"arr\", stream_label=\"arr channels\")\n",
    "\n",
    "max_subscriptions = ubwa.get_limit_of_subscriptions_per_stream()\n",
    "\n",
    "for channel in channels:\n",
    "    if len(markets) <= max_subscriptions:\n",
    "        ubwa.create_stream(channel, markets, stream_label=channel)\n",
    "    else:\n",
    "        loops = 1\n",
    "        i = 1\n",
    "        markets_sub = []\n",
    "        for market in markets:\n",
    "            markets_sub.append(market)\n",
    "            if i == max_subscriptions or loops*max_subscriptions + i == len(markets):\n",
    "                ubwa.create_stream(channel, markets_sub, stream_label=str(channel+\"_\"+str(i)))\n",
    "                markets_sub = []\n",
    "                i = 1\n",
    "                loops += 1\n",
    "            i += 1\n"
   ]
  },
  {
   "cell_type": "code",
   "execution_count": 2,
   "metadata": {},
   "outputs": [
    {
     "name": "stdout",
     "output_type": "stream",
     "text": [
      "====================== unicorn-binance-websocket-api_1.24.0-python_3.6.9 ======================\n",
      " exchange: binance.com\n",
      " uptime: 30 seconds since 2020-10-08, 22:35:26 UTC\n",
      " streams: 7\n",
      " active_streams: 7\n",
      " subscriptions: 3267\n",
      " current_receiving_speed: 193.35 kB/s\n",
      " average_receiving_speed: 183.73 kB/s (per day 15.14 gB)\n",
      " highest_receiving_speed: 430.44 kB/s (reached at 2020-10-08, 22:35:30 UTC)\n",
      " total_receives: 4293\n",
      " total_received_bytes: 5774063 (5.51 mB)\n",
      " total_transmitted_payloads: 13\n",
      " process_ressource_usage: cpu=30.8%, memory=76.86 mB, threads=22\n",
      " ---------------------------------------------------------------------------------------------\n",
      "               stream_id              |   stream_label  |  last  |  average  |  most  | recon\n",
      " ---------------------------------------------------------------------------------------------\n",
      " fb17bedb-1f95-42f9-954f-36762e3a7689 | arr channels    |      2 |      1.92 |      3 |      0 \n",
      " 31f9f15d-a38f-409f-8fda-46910742db2f | aggTrade_65     |      7 |      6.71 |     48 |      0 \n",
      " fa23e5a3-0fb4-439d-bada-7d90a8fb936e | aggTrade_1024   |     55 |     47.32 |    126 |      0 \n",
      " 5503c3a4-1138-419b-9cad-8407e963b1d5 | kline_1m_65     |      1 |      1.92 |      6 |      0 \n",
      " 756e082f-b451-4319-b1d2-0f672087bc80 | kline_1m_1024   |     26 |      20.3 |     36 |      0 \n",
      " 1da18ff5-f70e-4e2a-99ce-345c1497ca67 | trade_65        |      7 |      7.51 |     49 |      0 \n",
      " e1753c36-03d1-4540-b220-0adfd6d2cb5a | trade_1024      |     68 |     56.26 |    150 |      0 \n",
      " ---------------------------------------------------------------------------------------------\n",
      " all_streams                                            |    166 |    141.93 |    386 |      0 \n",
      "===============================================================================================\n",
      "\n"
     ]
    }
   ],
   "source": [
    "ubwa.print_summary()\n"
   ]
  },
  {
   "cell_type": "code",
   "execution_count": 3,
   "metadata": {},
   "outputs": [
    {
     "data": {
      "text/plain": [
       "[]"
      ]
     },
     "execution_count": 3,
     "metadata": {},
     "output_type": "execute_result"
    }
   ],
   "source": [
    "ubwa.get_errors_from_endpoints()"
   ]
  },
  {
   "cell_type": "code",
   "execution_count": 4,
   "metadata": {},
   "outputs": [
    {
     "data": {
      "text/plain": [
       "['{\"result\":null,\"id\":6}',\n",
       " '{\"result\":null,\"id\":1}',\n",
       " '{\"result\":null,\"id\":10}',\n",
       " '{\"result\":null,\"id\":2}',\n",
       " '{\"result\":null,\"id\":7}',\n",
       " '{\"result\":null,\"id\":8}',\n",
       " '{\"result\":null,\"id\":9}',\n",
       " '{\"result\":null,\"id\":3}',\n",
       " '{\"result\":null,\"id\":4}',\n",
       " '{\"result\":null,\"id\":5}',\n",
       " '{\"result\":null,\"id\":11}',\n",
       " '{\"result\":null,\"id\":12}',\n",
       " '{\"result\":null,\"id\":13}']"
      ]
     },
     "execution_count": 4,
     "metadata": {},
     "output_type": "execute_result"
    }
   ],
   "source": [
    "ubwa.get_results_from_endpoints()"
   ]
  },
  {
   "cell_type": "code",
   "execution_count": 5,
   "metadata": {},
   "outputs": [
    {
     "data": {
      "text/plain": [
       "{'active_streams': 7,\n",
       " 'average_receives_per_second': 189.31,\n",
       " 'average_speed_per_second': 208.46,\n",
       " 'crashed_streams': 0,\n",
       " 'highest_restart_per_stream_last_hour': 0,\n",
       " 'reconnects': 0,\n",
       " 'restarting_streams': 0,\n",
       " 'return_code': 1,\n",
       " 'status_msg': '',\n",
       " 'status_text': 'WARNING',\n",
       " 'stopped_streams': 0,\n",
       " 'stream_buffer_items': '1',\n",
       " 'stream_buffer_mb': 0.0011,\n",
       " 'timestamp': 1602196573.038726,\n",
       " 'total_received_length': 8805,\n",
       " 'total_received_mb': 9.47,\n",
       " 'update_msg': ' Update available: UnicornFy and check_lucit_collector.py!',\n",
       " 'uptime': 0.001}"
      ]
     },
     "execution_count": 5,
     "metadata": {},
     "output_type": "execute_result"
    }
   ],
   "source": [
    "ubwa.get_monitoring_status_plain()"
   ]
  },
  {
   "cell_type": "code",
   "execution_count": 6,
   "metadata": {},
   "outputs": [
    {
     "data": {
      "text/plain": [
       "1021"
      ]
     },
     "execution_count": 6,
     "metadata": {},
     "output_type": "execute_result"
    }
   ],
   "source": [
    "ubwa.get_number_of_free_subscription_slots(stream_id_arr)"
   ]
  },
  {
   "cell_type": "code",
   "execution_count": 6,
   "metadata": {},
   "outputs": [
    {
     "data": {
      "text/plain": [
       "3"
      ]
     },
     "execution_count": 6,
     "metadata": {},
     "output_type": "execute_result"
    }
   ],
   "source": [
    "ubwa.get_number_of_subscriptions(stream_id_arr)"
   ]
  },
  {
   "cell_type": "code",
   "execution_count": 7,
   "metadata": {},
   "outputs": [
    {
     "name": "stdout",
     "output_type": "stream",
     "text": [
      "====================== unicorn-binance-websocket-api_1.24.0-python_3.6.9 ======================\n",
      " exchange: binance.com \n",
      " stream_id: fb17bedb-1f95-42f9-954f-36762e3a7689 \n",
      " stream_label: arr channels\n",
      " channels (3): ['!miniTicker', '!bookTicker', '!ticker'] \n",
      " markets (1): ['arr'] \n",
      " subscriptions: 3\n",
      " status: running\n",
      " start_time: 1602196526.950256 \n",
      " uptime: 55 seconds since 2020-10-08, 22:35:26 UTC\n",
      " reconnects: 0  \n",
      " last_heartbeat: 1602196581.7888386 \n",
      " seconds_to_last_heartbeat: 0.1909334659576416 \n",
      " kill_request: None \n",
      " stop_request: None \n",
      " has_stopped: False \n",
      " seconds_since_has_stopped: None \n",
      " current_receiving_speed: 279.0 kB/s \n",
      " processed_receives: 108 \n",
      " transmitted_payloads: 1 \n",
      " stream_most_receives_per_second: 3 \n",
      " stream_receives_per_second: 1.963 \n",
      " stream_receives_per_minute: 0 \n",
      " stream_receives_per_hour: 0 \n",
      " stream_receives_per_day: 0 \n",
      "===============================================================================================\n",
      "\n"
     ]
    }
   ],
   "source": [
    "ubwa.print_stream_info(stream_id_arr)"
   ]
  },
  {
   "cell_type": "code",
   "execution_count": 8,
   "metadata": {},
   "outputs": [
    {
     "data": {
      "text/plain": [
       "True"
      ]
     },
     "execution_count": 8,
     "metadata": {},
     "output_type": "execute_result"
    }
   ],
   "source": [
    "ubwa.get_stream_subscriptions(stream_id_arr)"
   ]
  },
  {
   "cell_type": "code",
   "execution_count": 9,
   "metadata": {},
   "outputs": [
    {
     "data": {
      "text/plain": [
       "['{\"result\":null,\"id\":6}',\n",
       " '{\"result\":null,\"id\":1}',\n",
       " '{\"result\":null,\"id\":10}',\n",
       " '{\"result\":null,\"id\":2}',\n",
       " '{\"result\":null,\"id\":7}',\n",
       " '{\"result\":null,\"id\":8}',\n",
       " '{\"result\":null,\"id\":9}',\n",
       " '{\"result\":null,\"id\":3}',\n",
       " '{\"result\":null,\"id\":4}',\n",
       " '{\"result\":null,\"id\":5}',\n",
       " '{\"result\":null,\"id\":11}',\n",
       " '{\"result\":null,\"id\":12}',\n",
       " '{\"result\":null,\"id\":13}',\n",
       " '{\"result\":[\"!ticker@arr\",\"!bookTicker@arr\",\"!miniTicker@arr\"],\"id\":14}']"
      ]
     },
     "execution_count": 9,
     "metadata": {},
     "output_type": "execute_result"
    }
   ],
   "source": [
    "ubwa.get_results_from_endpoints()"
   ]
  },
  {
   "cell_type": "code",
   "execution_count": 10,
   "metadata": {},
   "outputs": [
    {
     "data": {
      "text/plain": [
       "True"
      ]
     },
     "execution_count": 10,
     "metadata": {},
     "output_type": "execute_result"
    }
   ],
   "source": [
    "ubwa.unsubscribe_from_stream(stream_id_arr, channels=\"!ticker\")\n"
   ]
  },
  {
   "cell_type": "code",
   "execution_count": 11,
   "metadata": {},
   "outputs": [
    {
     "name": "stdout",
     "output_type": "stream",
     "text": [
      "====================== unicorn-binance-websocket-api_1.24.0-python_3.6.9 ======================\n",
      " exchange: binance.com \n",
      " stream_id: fb17bedb-1f95-42f9-954f-36762e3a7689 \n",
      " stream_label: arr channels\n",
      " channels (2): ['!miniTicker', '!bookTicker'] \n",
      " markets (1): ['arr'] \n",
      " subscriptions: 2\n",
      " status: running\n",
      " start_time: 1602196526.950256 \n",
      " uptime: 55 seconds since 2020-10-08, 22:35:26 UTC\n",
      " reconnects: 0  \n",
      " last_heartbeat: 1602196594.463804 \n",
      " seconds_to_last_heartbeat: 0.10397982597351074 \n",
      " kill_request: None \n",
      " stop_request: None \n",
      " has_stopped: False \n",
      " seconds_since_has_stopped: None \n",
      " current_receiving_speed: 125.81 kB/s \n",
      " processed_receives: 135 \n",
      " transmitted_payloads: 3 \n",
      " stream_most_receives_per_second: 4 \n",
      " stream_receives_per_second: 1.963 \n",
      " stream_receives_per_minute: 0 \n",
      " stream_receives_per_hour: 0 \n",
      " stream_receives_per_day: 0 \n",
      "===============================================================================================\n",
      "\n"
     ]
    }
   ],
   "source": [
    "ubwa.print_stream_info(stream_id_arr)"
   ]
  },
  {
   "cell_type": "code",
   "execution_count": 12,
   "metadata": {},
   "outputs": [],
   "source": [
    "big_kline_1m_stream_id = ubwa.get_stream_id_by_label(\"kline_1m_1024\")"
   ]
  },
  {
   "cell_type": "code",
   "execution_count": 13,
   "metadata": {},
   "outputs": [
    {
     "name": "stdout",
     "output_type": "stream",
     "text": [
      "====================== unicorn-binance-websocket-api_1.24.0-python_3.6.9 ======================\n",
      " exchange: binance.com \n",
      " stream_id: 756e082f-b451-4319-b1d2-0f672087bc80 \n",
      " stream_label: kline_1m_1024\n",
      " channels (1): ['kline_1m'] \n"
     ]
    },
    {
     "name": "stdout",
     "output_type": "stream",
     "text": [
      " markets (1023): ['bchbtc', 'fiobnb', 'docketh', 'arketh', 'lunbtc', 'tomousdt', 'gtobnb', 'bchsvpax', 'ongbtc', 'xmrusdt', 'blzusdt', 'trbusdt', 'renbtc', 'xembtc', 'yoyobnb', 'trbbtc', 'oaxbtc', 'blzbnb', 'btcusdc', 'bnbbusd', 'wtcusdt', 'rdnbnb', 'ltousdt', 'veneth', 'balbusd', 'wnxmusdt', 'cvcbtc', 'bullusdt', 'xtzbusd', 'phbbnb', 'btcdownusdt', 'xrpupusdt', 'lunabusd', 'gxsusdt', 'xrpgbp', 'linkupusdt', 'ctxcbtc', 'adaupusdt', 'linkaud', 'powreth', 'thetabnb', 'dltbtc', 'tfuelusdt', 'avabtc', 'ongusdt', 'onteth', 'keyusdt', 'xzcbtc', 'kavabnb', 'fuelbtc', 'paxbtc', 'stratbnb', 'databusd', 'gtousdt', 'bttusdt', 'irisbusd', 'xmrbusd', 'powrbtc', 'bnbusdc', 'ognbnb', 'btcgbp', 'snxbnb', 'evxbtc', 'sxpusdt', 'bnbdownusdt', 'srmbtc', 'dotbtc', 'ornusdt', 'ontbnb', 'linkusdt', 'rsrbusd', 'kmdbtc', 'perlusdt', 'ctxcusdt', 'btsbusd', 'arneth', 'poeeth', 'belbnb', 'wavesusdt', 'xrprub', 'enjbtc', 'zeneth', 'beambnb', 'diabtc', 'btceur', 'celrusdt', 'bakebnb', 'iostbnb', 'bnbupusdt', 'cmteth', 'perlusdc', 'fueleth', 'xlmusdt', 'nulsbnb', 'avabnb', 'mtlusdt', 'usdtdai', 'adaeth', 'eosusdc', 'sunbtc', 'wrxbnb', 'neobnb', 'nanobusd', 'maticbusd', 'mkrbnb', 'sushiusdt', 'eosbusd', 'srmbidr', 'onebtc', 'bchtusd', 'zecusdt', 'ltceth', 'wnxmbtc', 'tusdusdt', 'evxeth', 'battusd', 'bttbtc', 'xrptry', 'uniusdt', 'dgdeth', 'vetbusd', 'eosupusdt', 'hbarusdt', 'zenusdt', 'umausdt', 'navbtc', 'xlmbnb', 'xrpusdt', 'ncashbtc', 'tfuelpax', 'btcbbtc', 'tnbbtc', 'funusdt', 'stormeth', 'stmxbnb', 'cndeth', 'troyusdt', 'burgerbnb', 'ncashbnb', 'trxpax', 'bcnbtc', 'busdbidr', 'blzeth', 'gtobtc', 'xlmbtc', 'bkrwusdt', 'paxgbtc', 'xembnb', 'ethrub', 'bgbpusdc', 'phbusdc', 'drepbnb', 'btczar', 'thetaeth', 'xrpbullusdt', 'poebtc', 'trxbnb', 'phxeth', 'pntbtc', 'nbsusdt', 'gtopax', 'perlbnb', 'daibtc', 'ankrusdc', 'naveth', 'dltbnb', 'enjusdt', 'trbbusd', 'rdneth', 'cmtbtc', 'qlcbtc', 'wrxbtc', 'omgusdt', 'dasheth', 'batpax', 'wprbtc', 'nulsbtc', 'busdzar', 'snxusdt', 'paxgbusd', 'rcnbnb', 'etcbnb', 'bnbbearusdt', 'rpxbnb', 'usdtzar', 'luneth', 'usdsusdt', 'ftmusdc', 'skyeth', 'wingusdt', 'storjbusd', 'bcneth', 'fetbtc', 'celrbtc', 'tctbnb', 'trxdownusdt', 'repbnb', 'ksmusdt', 'zectusd', 'srmbusd', 'btseth', 'eostusd', 'vitebtc', 'paxeth', 'hsreth', 'eospax', 'ltcbnb', 'yfiibtc', 'srmbnb', 'xlmeth', 'polybnb', 'linktusd', 'poabnb', 'btttusd', 'eurusdt', 'ognbtc', 'zecbnb', 'ksmbtc', 'datausdt', 'ethbkrw', 'egldbusd', 'troybtc', 'vibeth', 'drepusdt', 'icxbnb', 'fetbnb', 'compbtc', 'dcrbusd', 'usdtbkrw', 'appcbnb', 'rlcbtc', 'belusdt', 'wavesusdc', 'bchbnb', 'xtzupusdt', 'kncusdt', 'irisbnb', 'nmrbusd', 'gobnb', 'lunabtc', 'maticusdt', 'usdcusdt', 'trxtusd', 'bandusdt', 'atombusd', 'solbtc', 'usdtuah', 'ltcpax', 'ambbtc', 'xtzdownusdt', 'aebtc', 'cakebnb', 'arpausdt', 'wabibtc', 'agieth', 'hntusdt', 'rvnbusd', 'xmrbnb', 'agibtc', 'usdsbusdt', 'repbusd', 'loombnb', 'jstbusd', 'bnbusdt', 'xmrbtc', 'wanusdt', 'btcbusd', 'sxpeur', 'compbusd', 'gxseth', 'beamusdt', 'mdtbtc', 'lendeth', 'hotbnb', 'rlcusdt', 'btsusdt', 'aionbusd', 'dotbnb', 'linkbkrw', 'aioneth', 'ethusdc', 'daibusd', 'usdtrub', 'storjbtc', 'wingbtc', 'nxseth', 'ethzar', 'creambusd', 'yfibusd', 'cloaketh', 'zenbtc', 'ostbtc', 'dotbidr', 'bcceth', 'bchusdc', 'nanousdt', 'btsbnb', 'linktry', 'btctusd', 'gbpusdt', 'ethpax', 'xzcbnb', 'tnteth', 'bchsvbtc', 'perlbtc', 'busddai', 'dashusdt', 'renusdt', 'ethgbp', 'syseth', 'idexbtc', 'rlceth', 'stptbtc', 'ftmpax', 'rsrbnb', 'ksmbusd', 'qlcbnb', 'sandbnb', 'sceth', 'ctsibnb', 'trxusdt', 'chrusdt', 'jstbtc', 'jstbnb', 'bnbbkrw', 'reqeth', 'ontbtc', 'btcaud', 'fttbtc', 'dgbusdt', 'btcupusdt', 'ontusdt', 'algotusd', 'asteth', 'bchabcusdc', 'venusdt', 'xrpeur', 'polybtc', 'sxpbidr', 'ltcdownusdt', 'lendbusd', 'powrbnb', 'trxbusd', 'busdrub', 'compusdt', 'storjusdt', 'winbnb', 'adausdt', 'dlteth', 'unibtc', 'usdspax', 'dcrbtc', 'paxbnb', 'busdidrt', 'tomobnb', 'qspbnb', 'linkpax', 'trigeth', 'wrxbusd', 'sxptry', 'pivxbnb', 'vibebtc', 'iotxbtc', 'loometh', 'xlmpax', 'usdctusd', 'tntbtc', 'dgbbusd', 'btsbtc', 'viabtc', 'busdbkrw', 'chzusdt', 'batbusd', 'egldusdt', 'bccusdt', 'xrpaud', 'algobtc', 'chateth', 'wanbtc', 'bcnbnb', 'winbtc', 'neobusd', 'sandbusd', 'lskbnb', 'elfeth', 'zecusdc', 'sxpbusd', 'batbnb', 'antusdt', 'rsrbtc', 'zenbnb', 'rvnbtc', 'rpxeth', 'eosbullusdt', 'zilbusd', 'xvsbusd', 'kmdusdt', 'runebtc', 'xrpbtc', 'vibbtc', 'ontpax', 'dogepax', 'hiveusdt', 'icxbusd', 'rcneth', 'tomousdc', 'erdpax', 'modbtc', 'kmdbusd', 'eosbearbusd', 'zrxusdt', 'bcptusdc', 'xvsbtc', 'ncasheth', 'omgbnb', 'busdtry', 'lskbtc', 'fetusdt', 'oxtusdt', 'kavausdt', 'diabnb', 'bchsvusdt', 'xzcxrp', 'viabnb', 'erdbtc', 'blzbtc', 'antbnb', 'nknbtc', 'wbtceth', 'elfbtc', 'qtumusdt', 'neousdc', 'kncbusd', 'gobtc', 'rsrusdt', 'wnxmbnb', 'lendusdt', 'dogeusdc', 'jstusdt', 'etcbusd', 'keyeth', 'skybtc', 'ftmtusd', 'crvbnb', 'celrbnb', 'aebnb', 'cndbnb', 'spartabnb', 'aionbnb', 'steembnb', 'trxusdc', 'mblbtc', 'xzceth', 'ethbearusdt', 'yfibnb', 'chrbtc', 'oxtbtc', 'trigbnb', 'hoteth', 'wanbnb', 'sysbtc', 'iotausdt', 'renbnb', 'btctry', 'beambtc', 'bttbusd', 'vetbnb', 'oceanusdt', 'rvnbnb', 'wavesbnb', 'batusdt', 'viteusdt', 'brdeth', 'ftmusdt', 'ontusdc', 'scrteth', 'iqbusd', 'gtotusd', 'qlceth', 'cosbnb', 'snxbusd', 'diabusd', 'appceth', 'stxusdt', 'arpabtc', 'osteth', 'xmreth', 'bcpttusd', 'vitebnb', 'hivebtc', 'onetusd', 'bnbeur', 'stormusdt', 'btcdai', 'antbtc', 'skybnb', 'sxpbnb', 'lendbtc', 'wrxusdt', 'tctbtc', 'diausdt', 'waveseth', 'poaeth', 'grsbtc', 'thetabtc', 'bnbrub', 'cdtbtc', 'algobusd', 'ethbidr', 'bnbbidr', 'nbsbtc', 'pptbtc', 'xtzusdt', 'atompax', 'xrpbearbusd', 'audbusd', 'bchabcusdt', 'erdusdc', 'mithbnb', 'utkusdt', 'eosbearusdt', 'runeusdt', 'manabusd', 'venbnb', 'balbtc', 'ardrbnb', 'etcpax', 'linkusdc', 'eurbusd', 'dgdbtc', 'xrpeth', 'bchabcbusd', 'avaxbnb', 'atomusdc', 'rlcbnb', 'usdttry', 'solbusd', 'trxupusdt', 'bcdbtc', 'repusdt', 'adabusd', 'lrcusdt', 'navbnb', 'duskbtc', 'bntbtc', 'mdtusdt', 'balbnb', 'usdtidrt', 'xrpbkrw', 'vthobusd', 'modeth', 'xrpbnb', 'cakebusd', 'bearbusd', 'algopax', 'oneusdt', 'nxsbnb', 'wingsbtc', 'nanoeth', 'creambnb', 'wintrx', 'iqbnb', 'stmxeth', 'cdteth', 'cotibnb', 'bchsvtusd', 'mkrusdt', 'dogebusd', 'tomobtc', 'chzbnb', 'daibnb', 'usdstusd', 'gbpbusd', 'usdcbnb', 'thetausdt', 'stmxusdt', 'stratbusd', 'dashbtc', 'btcbkrw', 'bullbusd', 'ankrusdt', 'dotupusdt', 'btcuah', 'ardreth', 'nulsusdt', 'neotusd', 'bttbnb', 'wavesbusd', 'iotxeth', 'bntbusd', 'bateth', 'bchsvusdc', 'manausdt', 'iosteth', 'ltcusdt', 'zecpax', 'adxbtc', 'btcidrt', 'bzrxusdt', 'adausdc', 'trbbnb', 'ftmbnb', 'utkbtc', 'lunausdt', 'belbusd', 'paxusdt', 'irisbtc', 'ltctusd', 'wnxmbusd', 'eosusdt', 'oceanbtc', 'xlmusdc', 'onebnb', 'phxbnb', 'manaeth', 'bnbbearbusd', 'wavestusd', 'rvnusdt', 'neblbtc', 'zilbnb', 'btcusds', 'stormbnb', 'usdsbusds', 'dockbtc', 'bnbzar', 'tfuelusdc', 'stptusdt', 'batusdc', 'erdbnb', 'mcobnb', 'duskusdt', 'tfuelbtc', 'bcdeth', 'unibnb', 'avaxbtc', 'zecbtc', 'fiobtc', 'duskpax', 'egldbtc', 'duskusdc', 'btcngn', 'avaxbusd', 'atombnb', 'ambeth', 'neblbnb', 'bnbngn', 'repbtc', 'lskusdt', 'brdbtc', 'gvtbtc', 'reqbtc', 'xtzbtc', 'ethdownusdt', 'nasbnb', 'bnbtusd', 'gxsbtc', 'wavesbtc', 'kavabtc', 'paxgbnb', 'adadownusdt', 'nulseth', 'ardrbtc', 'cocosusdt', 'nknbnb', 'lunabnb', 'gntbnb', 'agibnb', 'antbusd', 'nknusdt', 'npxseth', 'nebleth', 'ppteth', 'grseth', 'dcrusdt', 'crvbtc', 'atomusdt', 'solusdt', 'unibusd', 'flmbusd', 'hcbtc', 'dogebtc', 'usdsusdc', 'zecbusd', 'troybnb', 'tusdeth', 'cosusdt', 'bnbidrt', 'fiobusd', 'repeth', 'enjeth', 'btcrub', 'qspbtc', 'runebnb', 'ostbnb', 'btgbtc', 'xlmbusd', 'balusdt', 'bzrxbtc', 'gnteth', 'bttpax', 'yfiiusdt', 'nanobtc', 'aeeth', 'ctsiusdt', 'veteth', 'neopax', 'flmbnb', 'cndbtc', 'bcpteth', 'edobtc', 'vthousdt', 'ontbusd', 'phbbtc', 'lendbkrw', 'hbarbusd', 'bcptbtc', 'keybtc', 'daiusdt', 'trxeth', 'bchbusd', 'bearusdt', 'etcusdt', 'adabtc', 'bcptpax', 'ankrpax', 'winusdc', 'icxeth', 'eosdownusdt', 'cocosbnb', 'trxbtc', 'zilbtc', 'ksmbnb', 'hntbtc', 'manabtc', 'bnbaud', 'rcnbtc', 'iotabnb', 'usdtbidr', 'icnbtc', 'eosbnb', 'ltobnb', 'batbtc', 'usdtngn', 'tfueltusd', 'compbnb', 'pivxeth', 'inseth', 'ankrtusd', 'bkrwbusd', 'scrtbtc', 'winusdt', 'ftmbtc', 'loombtc', 'sandbtc', 'cvcbnb', 'hbarbnb', 'enjbusd', 'rpxbtc', 'sandusdt', 'yfiibnb', 'mcousdt', 'bchpax', 'zileth', 'ardrusdt', 'busdngn', 'runebusd', 'bnbtry', 'bandbnb', 'xlmtusd', 'ambbnb', 'appcbtc', 'ethtry', 'flmbtc', 'crvusdt', 'sunusdt', 'btcpax', 'cocosbtc', 'wtcbnb', 'npxsusdc', 'icxusdt', 'chzbtc', 'adabkrw', 'yfibtc', 'audusdt', 'ethbullbusd', 'nmrbtc', 'stratusdt', 'bchabcbtc', 'cvcusdt', 'stxbnb', 'qtumbusd', 'trxxrp', 'mdtbnb', 'sxpbtc', 'ltcusdc', 'snxbtc', 'qspeth', 'atomtusd', 'gntbtc', 'adxeth', 'denteth', 'linkbusd', 'zeceth', 'bccbnb', 'dcrbnb', 'solbnb', 'bntusdt', 'qtumbnb', 'rdnbtc', 'mblbnb', 'atombtc', 'adabnb', 'arkbtc', 'bnbusds', 'lsketh', 'dentusdt', 'swrvbnb', 'iostbtc', 'steembtc', 'npxsbtc', 'cmtbnb', 'mftbnb', 'ethdai', 'nasbtc', 'swrvbusd', 'tctusdt', 'insbtc', 'iostusdt', 'eosbullbusd', 'wingbusd', 'unidownusdt', 'cotibtc', 'cvceth', 'vetusdt', 'iotxusdt', 'ethupusdt', 'stormbtc', 'xrptusd', 'paxtusd', 'bzrxbusd', 'venbtc', 'erdusdt', 'onebidr', 'stxbtc', 'pntusdt', 'avabusd', 'ltcbusd', 'bnbbullusdt', 'scbtc', 'fiousdt', 'hbarbtc', 'phxbtc', 'zrxbnb', 'icxbtc', 'kmdeth', 'trxngn', 'dockusdt', 'blzbusd', 'algobnb', 'etcusdc', 'xzcusdt', 'sushibtc', 'lrcbusd', 'bchabctusd', 'dogebnb', 'tomobusd', 'hcusdt', 'crvbusd', 'ankrbnb', 'ctxcbnb', 'xrppax', 'arpabnb', 'phbpax', 'adapax', 'nmrbnb', 'xrpbearusdt', 'busdusdt', 'etctusd', 'iotabusd', 'ongbnb', 'cosbtc', 'mftusdt', 'waneth', 'xrpbusd', 'tusdbtc', 'tusdbnb', 'ltcupusdt', 'sushibnb', 'oceanbusd', 'wpreth', 'vibeeth', 'ethbearbusd', 'vthobnb', 'mkrbusd', 'belbtc', 'hotbtc', 'linkdownusdt', 'xtzbnb', 'dgbbnb', 'qkcbtc', 'idexbusd', 'srmusdt', 'neousdt', 'vetbtc', 'dotusdt', 'aionusdt', 'mblusdt', 'sushibusd', 'wavespax', 'wingbnb', 'bcptbnb', 'trigbtc', 'ctsibusd', 'xrpdownusdt', 'wingseth', 'pivxbtc', 'nanobnb', 'mithbtc', 'bchabcpax', 'maticbnb', 'cotiusdt', 'dotdownusdt', 'ethngn', 'duskbnb', 'dashbusd', 'dashbnb', 'mkrbtc', 'onepax', 'xvsbnb', 'yfiibusd', 'yfiusdt', 'ornbtc', 'maticbtc', 'algousdt', 'tfuelbnb', 'drepbtc', 'dataeth', 'aionbtc', 'ognusdt', 'adxbnb', 'ethbullusdt', 'scbnb', 'ctsibtc', 'usdcpax', 'wabibnb', 'ethaud', 'mftbtc', 'oceanbnb', 'fttbnb', 'etheur', 'phbtusd', 'arnbtc', 'mithusdt', 'npxsusdt', 'qkceth', 'ltobtc', 'bnbdai', 'umabtc', 'oneusdc', 'storjeth', 'hivebnb', 'bandbtc', 'erdbusd', 'dgbbtc', 'btcbidr', 'algousdc', 'xrpbullbusd', 'flmusdt', 'wbtcbtc', 'xemeth', 'enjbnb', 'sysbnb', 'steemeth', 'bchusdt', 'naseth', 'sxpaud', 'ankrbtc', 'paxgusdt', 'dogeusdt', 'bttusdc', 'edoeth', 'fttusdt', 'adatusd', 'bnbbullbusd', 'yoyoeth', 'gtoeth', 'zilusdt', 'nxsbtc', 'poabtc', 'zrxbusd', 'scusdt', 'stmxbtc', 'astbtc', 'gtousdc', 'nmrusdt', 'xrpusdc', 'bnbpax', 'tnbeth', 'bzrxbnb', 'dentbtc', 'dotbusd', 'ethtusd', 'irisusdt', 'avaxusdt', 'chatbtc', 'brdbnb', 'cloakbtc', 'databtc', 'mfteth', 'chrbnb', 'hceth', 'ethbusd', 'stptbnb', 'bnbgbp', 'btttrx', 'hotusdt', 'viaeth', 'gvteth', 'uniupusdt', 'egldbnb', 'btgeth', 'wabieth', 'tusdbtusd'] "
     ]
    },
    {
     "name": "stdout",
     "output_type": "stream",
     "text": [
      "\n",
      " subscriptions: 1023\n",
      " status: running\n",
      " start_time: 1602196526.9676583 \n",
      " uptime: 2m:57s since 2020-10-08, 22:35:26 UTC\n",
      " reconnects: 0  \n",
      " last_heartbeat: 1602196704.5306242 \n",
      " seconds_to_last_heartbeat: 0.021552085876464844 \n",
      " kill_request: None \n",
      " stop_request: None \n",
      " has_stopped: False \n",
      " seconds_since_has_stopped: None \n",
      " current_receiving_speed: 6.47 kB/s \n",
      " processed_receives: 7361 \n",
      " transmitted_payloads: 3 \n",
      " stream_most_receives_per_second: 719 \n",
      " stream_receives_per_second: 41.451 \n",
      " stream_receives_per_minute: 2487.042 \n",
      " stream_receives_per_hour: 0 \n",
      " stream_receives_per_day: 0 \n",
      "===============================================================================================\n",
      "\n"
     ]
    }
   ],
   "source": [
    "ubwa.print_stream_info(big_kline_1m_stream_id)"
   ]
  },
  {
   "cell_type": "code",
   "execution_count": null,
   "metadata": {},
   "outputs": [],
   "source": []
  }
 ],
 "metadata": {
  "kernelspec": {
   "display_name": "Python 3",
   "language": "python",
   "name": "python3"
  },
  "language_info": {
   "codemirror_mode": {
    "name": "ipython",
    "version": 3
   },
   "file_extension": ".py",
   "mimetype": "text/x-python",
   "name": "python",
   "nbconvert_exporter": "python",
   "pygments_lexer": "ipython3",
   "version": "3.6.9"
  }
 },
 "nbformat": 4,
 "nbformat_minor": 2
}
